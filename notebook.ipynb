{
 "cells": [
  {
   "cell_type": "code",
   "execution_count": null,
   "id": "b7b9266a",
   "metadata": {},
   "outputs": [],
   "source": [
    "import pandas as pd\n",
    "import math\n",
    "from openpyxl import load_workbook\n",
    "import pyodbc\n",
    "from datetime import datetime, timedelta\n",
    "\n",
    "FILENAME = 'MDC Q1 Playbook Lam WEEKLY UPDATES.xlsx'\n",
    "\n",
    "CONNECTION_STRING = f'\\\n",
    "            DRIVER={{ODBC Driver 17 for SQL Server}};\\\n",
    "            ENCRYPT=no;\\\n",
    "            SERVER=172.20.103.105;\\\n",
    "            DATABASE=MDC_AX2009SP1_PROD;\\\n",
    "            UID=USSQLUser;\\\n",
    "            PWD=Insp1r0n2022'"
   ]
  },
  {
   "cell_type": "code",
   "execution_count": null,
   "id": "b39f462c",
   "metadata": {},
   "outputs": [],
   "source": [
    "commits_orig = pd.read_excel(FILENAME, sheet_name='MDC Supply Commits')\n",
    "commits_orig.insert(1, 'Type', '')"
   ]
  },
  {
   "cell_type": "code",
   "execution_count": null,
   "id": "42b42032",
   "metadata": {},
   "outputs": [],
   "source": [
    "def isNaN(value):\n",
    "    return isinstance(value, float) and math.isnan(value)\n",
    "\n",
    "def exec_query(query):\n",
    "    cursor = pyodbc.connect(CONNECTION_STRING).cursor()\n",
    "    cursor.execute(query)\n",
    "    rows = [tuple(r) for r in cursor.fetchall()]\n",
    "    headers = [column[0] for column in cursor.description]\n",
    "    data = [dict(zip(headers, row)) for row in rows]\n",
    "    return data"
   ]
  },
  {
   "cell_type": "code",
   "execution_count": null,
   "id": "aaa8c204",
   "metadata": {},
   "outputs": [],
   "source": [
    "SO_LINES_QUERY = '''\n",
    "        SELECT ITEMID, CAST(SALESQTY AS INT) AS SALESQTY, SHIPPINGDATECONFIRMED\n",
    "        FROM [MDC_AX2009SP1_PROD].[dbo].[SALESLINE]\n",
    "        WHERE DATAAREAID='mdc'\n",
    "        '''\n",
    "\n",
    "so_lines = pd.DataFrame(exec_query(SO_LINES_QUERY))\n",
    "so_lines"
   ]
  },
  {
   "cell_type": "code",
   "execution_count": null,
   "id": "11b38491",
   "metadata": {},
   "outputs": [],
   "source": [
    "sums = so_lines.loc[so_lines['SHIPPINGDATECONFIRMED'] >= '2023-06-01'].groupby('ITEMID')['SALESQTY'].sum()\n",
    "sums"
   ]
  },
  {
   "cell_type": "code",
   "execution_count": null,
   "id": "70d7be53",
   "metadata": {},
   "outputs": [],
   "source": [
    "commits = commits_orig.copy()\n",
    "commits = commits[commits['PartNumber'].notnull()] # filter out rows with empty part numbers\n",
    "commits['Type'] = 'Supply Commits'\n",
    "commits"
   ]
  },
  {
   "cell_type": "code",
   "execution_count": null,
   "id": "0a51f0bf",
   "metadata": {},
   "outputs": [],
   "source": [
    "date_cols = [col for col in commits.columns if isinstance(col, datetime)]\n",
    "date_cols"
   ]
  },
  {
   "cell_type": "code",
   "execution_count": null,
   "id": "e9000f6d",
   "metadata": {},
   "outputs": [],
   "source": [
    "for date_col in date_cols:\n",
    "    commits[date_col] = commits['PartNumber'].map(\n",
    "        so_lines.loc[\n",
    "            (so_lines['SHIPPINGDATECONFIRMED'] >= date_col)\n",
    "            & (so_lines['SHIPPINGDATECONFIRMED'] < date_col + timedelta(days=7))\n",
    "        ].groupby('ITEMID')['SALESQTY'].sum()\n",
    "    )\n",
    "\n",
    "commits\n"
   ]
  },
  {
   "cell_type": "code",
   "execution_count": null,
   "id": "e9993f89",
   "metadata": {},
   "outputs": [],
   "source": [
    "commits_past_thru_col = commits.iloc[:, 5]\n",
    "commits_past_thru_col = commits['PartNumber'].map(\n",
    "    so_lines.loc[\n",
    "        (so_lines['SHIPPINGDATECONFIRMED'] < date_cols[0])\n",
    "    ].groupby('ITEMID')['SALESQTY'].sum()\n",
    ")\n",
    "\n",
    "commits[commits.iloc[:, 5].notnull()]"
   ]
  },
  {
   "cell_type": "code",
   "execution_count": null,
   "id": "8757e15f",
   "metadata": {},
   "outputs": [],
   "source": [
    "shipped = commits_orig.copy()\n",
    "shipped = commits[commits['PartNumber'].notnull()] # filter out rows with empty part numbers\n",
    "shipped['Type'] = 'Completed Shipments'\n",
    "shipped['Issues/Notes'] = ''\n",
    "shipped"
   ]
  },
  {
   "cell_type": "code",
   "execution_count": null,
   "id": "68b8431b",
   "metadata": {},
   "outputs": [],
   "source": [
    "SPS_LINES_QUERY = '''\n",
    "        SELECT ITEMID, CAST(QTY AS INT) AS QTY, DELIVERYDATE\n",
    "        FROM [MDC_AX2009SP1_PROD].[dbo].[CUSTPACKINGSLIPTRANS]\n",
    "        WHERE DATAAREAID='mdc'\n",
    "        '''\n",
    "\n",
    "sps_lines = pd.DataFrame(exec_query(SPS_LINES_QUERY))\n",
    "sps_lines"
   ]
  },
  {
   "cell_type": "code",
   "execution_count": null,
   "id": "2dcdb580",
   "metadata": {},
   "outputs": [],
   "source": [
    "for date_col in date_cols:\n",
    "    shipped[date_col] = shipped['PartNumber'].map(\n",
    "        sps_lines.loc[\n",
    "            (sps_lines['DELIVERYDATE'] >= date_col)\n",
    "            & (sps_lines['DELIVERYDATE'] < date_col + timedelta(days=7))\n",
    "        ].groupby('ITEMID')['QTY'].sum()\n",
    "    )\n",
    "\n",
    "shipped"
   ]
  },
  {
   "cell_type": "code",
   "execution_count": null,
   "metadata": {},
   "outputs": [],
   "source": [
    "shipped_past_thru_col = shipped.iloc[:, 5]\n",
    "shipped_past_thru_col = shipped['PartNumber'].map(\n",
    "    sps_lines.loc[\n",
    "        (sps_lines['DELIVERYDATE'] < date_cols[0])\n",
    "    ].groupby('ITEMID')['QTY'].sum()\n",
    ")\n",
    "\n",
    "shipped[shipped_past_thru_col.notnull()]"
   ]
  },
  {
   "cell_type": "code",
   "execution_count": null,
   "id": "14469d9d",
   "metadata": {},
   "outputs": [],
   "source": [
    "combined = pd.concat([commits, shipped]).sort_values(['PartNumber', 'Type'], ascending=False)\n",
    "combined"
   ]
  },
  {
   "cell_type": "code",
   "execution_count": null,
   "id": "4ad9414e",
   "metadata": {},
   "outputs": [],
   "source": [
    "# combined.query(\"PartNumber == '839-274019-001'\")\n",
    "past_thru_col = combined.columns[5]\n",
    "totals_col = combined.columns[-2]\n",
    "\n",
    "\n",
    "combined[totals_col] = combined[[past_thru_col] + date_cols].sum(axis=1)\n",
    "\n",
    "combined"
   ]
  },
  {
   "cell_type": "code",
   "execution_count": null,
   "id": "89f10c7e",
   "metadata": {},
   "outputs": [],
   "source": [
    "book = load_workbook(FILENAME)\n",
    "writer = pd.ExcelWriter(FILENAME, engine='openpyxl')\n",
    "writer.book = book\n",
    "\n",
    "combined.to_excel(writer, sheet_name='MDC Supply Commits - updated', index=False)\n",
    "writer.save()\n",
    "writer.close()\n",
    "\n",
    "# commits.to_excel(FILENAME, 'MDC Supply Commits - updated', index=False)"
   ]
  }
 ],
 "metadata": {
  "kernelspec": {
   "display_name": "Python 3 (ipykernel)",
   "language": "python",
   "name": "python3"
  },
  "language_info": {
   "codemirror_mode": {
    "name": "ipython",
    "version": 3
   },
   "file_extension": ".py",
   "mimetype": "text/x-python",
   "name": "python",
   "nbconvert_exporter": "python",
   "pygments_lexer": "ipython3",
   "version": "3.9.9"
  }
 },
 "nbformat": 4,
 "nbformat_minor": 5
}
