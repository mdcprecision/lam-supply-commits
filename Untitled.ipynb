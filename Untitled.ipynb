{
 "cells": [
  {
   "cell_type": "code",
   "execution_count": 6,
   "id": "4aa2e1f9-afa0-4e80-a5a7-d005215d7260",
   "metadata": {},
   "outputs": [],
   "source": [
    "x=33"
   ]
  },
  {
   "cell_type": "code",
   "execution_count": 7,
   "id": "c57e50fc-3f66-48b8-ab1b-aa7b0f2165d3",
   "metadata": {},
   "outputs": [],
   "source": [
    "x=x*2"
   ]
  },
  {
   "cell_type": "code",
   "execution_count": 8,
   "id": "1da34d6f-33c1-4f08-a013-c1a05d79541a",
   "metadata": {},
   "outputs": [
    {
     "name": "stdout",
     "output_type": "stream",
     "text": [
      "66\n"
     ]
    }
   ],
   "source": [
    "print(x)"
   ]
  },
  {
   "cell_type": "code",
   "execution_count": null,
   "id": "b64e5858-86c8-4a24-a0ac-c9ed1c691a29",
   "metadata": {},
   "outputs": [],
   "source": []
  }
 ],
 "metadata": {
  "kernelspec": {
   "display_name": "Python 3 (ipykernel)",
   "language": "python",
   "name": "python3"
  },
  "language_info": {
   "codemirror_mode": {
    "name": "ipython",
    "version": 3
   },
   "file_extension": ".py",
   "mimetype": "text/x-python",
   "name": "python",
   "nbconvert_exporter": "python",
   "pygments_lexer": "ipython3",
   "version": "3.9.9"
  }
 },
 "nbformat": 4,
 "nbformat_minor": 5
}
